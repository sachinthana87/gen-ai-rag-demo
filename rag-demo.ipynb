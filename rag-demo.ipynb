{
 "cells": [
  {
   "cell_type": "code",
   "execution_count": 2,
   "metadata": {},
   "outputs": [
    {
     "data": {
      "text/html": [
       "\n",
       "    <style>\n",
       "        .output_area pre {\n",
       "            white-space: pre-wrap;\n",
       "        }\n",
       "    </style>\n"
      ],
      "text/plain": [
       "<IPython.core.display.HTML object>"
      ]
     },
     "metadata": {},
     "output_type": "display_data"
    }
   ],
   "source": [
    "from IPython.display import display, HTML\n",
    "\n",
    "# Apply word wrapping to notebook outputs\n",
    "display(HTML('''\n",
    "    <style>\n",
    "        .output_area pre {\n",
    "            white-space: pre-wrap;\n",
    "        }\n",
    "    </style>\n",
    "'''))\n",
    "\n",
    "import json\n",
    "import pandas as pd\n",
    "import time\n",
    "from openai import OpenAI\n",
    "import os\n",
    "import ast\n",
    "import numpy as np\n",
    "import pdb\n",
    "from dotenv import load_dotenv\n",
    "from pprint import pprint\n",
    "from openai import RateLimitError, AuthenticationError, APIConnectionError, APIError\n",
    "\n",
    "# Load environment variables from .env file\n",
    "load_dotenv()\n",
    "\n",
    "# Initialize OpenAI client with API key from environment variable\n",
    "client = OpenAI(api_key=os.environ.get(\"OPENAI_API_KEY\"))\n",
    "\n",
    "def get_response(user_content:str, system_content:str=None, assistant_content:str=None):\n",
    "    try:\n",
    "        messages = [{\"role\": \"user\", \"content\": user_content}]\n",
    "\n",
    "        if system_content is not None:\n",
    "            messages.append({\"role\": \"system\", \"content\": system_content})\n",
    "\n",
    "        if assistant_content is not None:\n",
    "            messages.append({\"role\": \"assistant\", \"content\": assistant_content})\n",
    "\n",
    "        response = client.chat.completions.create(\n",
    "            model=\"gpt-3.5-turbo\",\n",
    "            messages=messages\n",
    "        )\n",
    "        return response\n",
    "    except RateLimitError as e:\n",
    "        print(f\"Rate limit exceeded: {e}\")\n",
    "        # print(\"Retrying after 60 seconds...\")\n",
    "        # time.sleep(60)  # Wait for 60 seconds before retrying\n",
    "        # return get_response(question)\n",
    "        # return response\n",
    "    except APIConnectionError as e:\n",
    "        print(f\"API connection error: {e}\")\n",
    "    except AuthenticationError as e:\n",
    "        print(f\"Authentication error: {e}\")\n",
    "    except Exception as e:\n",
    "        print(f\"An unexpected error occurred: {e}\")\n",
    "\n",
    "\n",
    "def get_embedding(text, model=\"text-embedding-3-small\"):\n",
    "    try:\n",
    "        text = text.replace(\"\\n\", \" \")\n",
    "        response = client.embeddings.create(\n",
    "            model=model,\n",
    "            input=[text]\n",
    "        )\n",
    "        return response.data[0].embedding\n",
    "    except RateLimitError as e:\n",
    "        print(f\"Rate limit exceeded: {e}\")\n",
    "        # print(\"Retrying after 60 seconds...\")\n",
    "        # time.sleep(60)  # Wait for 60 seconds before retrying\n",
    "        # return get_response(question)\n",
    "        # return response\n",
    "    except APIConnectionError as e:\n",
    "        print(f\"API connection error: {e}\")\n",
    "    except AuthenticationError as e:\n",
    "        print(f\"Authentication error: {e}\")\n",
    "    except Exception as e:\n",
    "        print(f\"An unexpected error occurred: {e}\")"
   ]
  },
  {
   "cell_type": "code",
   "execution_count": 3,
   "metadata": {},
   "outputs": [
    {
     "data": {
      "text/plain": [
       "\"What temperature should I set my house on vacation so the pipes don't freeze?\""
      ]
     },
     "execution_count": 3,
     "metadata": {},
     "output_type": "execute_result"
    }
   ],
   "source": [
    "question = \"What temperature should I set my house on vacation so the pipes don't freeze?\"\n",
    "question"
   ]
  },
  {
   "cell_type": "code",
   "execution_count": 4,
   "metadata": {},
   "outputs": [
    {
     "data": {
      "text/plain": [
       "ChatCompletion(id='chatcmpl-AJsLSfuk2ehXqRvQsYB3ZNd4YFWow', choices=[Choice(finish_reason='stop', index=0, logprobs=None, message=ChatCompletionMessage(content='It is recommended to set your thermostat to a minimum of 55°F (13°C) to prevent the pipes from freezing while you are away on vacation. This will help ensure that your home remains at a safe temperature to prevent any damage to your plumbing system.', refusal=None, role='assistant', function_call=None, tool_calls=None))], created=1729300498, model='gpt-3.5-turbo-0125', object='chat.completion', service_tier=None, system_fingerprint=None, usage=CompletionUsage(completion_tokens=52, prompt_tokens=23, total_tokens=75, completion_tokens_details=CompletionTokensDetails(audio_tokens=None, reasoning_tokens=0), prompt_tokens_details=PromptTokensDetails(audio_tokens=None, cached_tokens=0)))"
      ]
     },
     "execution_count": 4,
     "metadata": {},
     "output_type": "execute_result"
    }
   ],
   "source": [
    "response = get_response(user_content=question)\n",
    "response"
   ]
  },
  {
   "cell_type": "code",
   "execution_count": 5,
   "metadata": {},
   "outputs": [
    {
     "data": {
      "text/plain": [
       "'It is recommended to set your thermostat to a minimum of 55°F (13°C) to prevent the pipes from freezing while you are away on vacation. This will help ensure that your home remains at a safe temperature to prevent any damage to your plumbing system.'"
      ]
     },
     "execution_count": 5,
     "metadata": {},
     "output_type": "execute_result"
    }
   ],
   "source": [
    "response.choices[0].message.content"
   ]
  },
  {
   "cell_type": "code",
   "execution_count": 6,
   "metadata": {},
   "outputs": [],
   "source": [
    "system_content = \"You are an assistant who is helping answer questions. Please answer as if you are talking to a 8 year old.\""
   ]
  },
  {
   "cell_type": "code",
   "execution_count": 7,
   "metadata": {},
   "outputs": [
    {
     "data": {
      "text/plain": [
       "ChatCompletion(id='chatcmpl-AJsLTeN1aYVKOzvCI4Y2quR96qMRh', choices=[Choice(finish_reason='stop', index=0, logprobs=None, message=ChatCompletionMessage(content=\"Good question! You should set your house temperature to around 55 degrees Fahrenheit when you're on vacation to make sure the pipes don't freeze. This way, your house will stay warm enough to keep everything safe while you're away.\", refusal=None, role='assistant', function_call=None, tool_calls=None))], created=1729300499, model='gpt-3.5-turbo-0125', object='chat.completion', service_tier=None, system_fingerprint=None, usage=CompletionUsage(completion_tokens=47, prompt_tokens=51, total_tokens=98, completion_tokens_details=CompletionTokensDetails(audio_tokens=None, reasoning_tokens=0), prompt_tokens_details=PromptTokensDetails(audio_tokens=None, cached_tokens=0)))"
      ]
     },
     "execution_count": 7,
     "metadata": {},
     "output_type": "execute_result"
    }
   ],
   "source": [
    "response = get_response(user_content=question, system_content=system_content)\n",
    "response"
   ]
  },
  {
   "cell_type": "code",
   "execution_count": 8,
   "metadata": {},
   "outputs": [
    {
     "data": {
      "text/plain": [
       "\"Good question! You should set your house temperature to around 55 degrees Fahrenheit when you're on vacation to make sure the pipes don't freeze. This way, your house will stay warm enough to keep everything safe while you're away.\""
      ]
     },
     "execution_count": 8,
     "metadata": {},
     "output_type": "execute_result"
    }
   ],
   "source": [
    "response.choices[0].message.content"
   ]
  },
  {
   "cell_type": "markdown",
   "metadata": {},
   "source": [
    "Now we will add Retrieval Augmented Generation"
   ]
  },
  {
   "cell_type": "code",
   "execution_count": 9,
   "metadata": {},
   "outputs": [
    {
     "data": {
      "text/plain": [
       "'Do you have parking?'"
      ]
     },
     "execution_count": 9,
     "metadata": {},
     "output_type": "execute_result"
    }
   ],
   "source": [
    "# first we create a little vectorDB from all of the web pages.\n",
    "question = \"Do you have parking?\"\n",
    "question"
   ]
  },
  {
   "cell_type": "code",
   "execution_count": 10,
   "metadata": {},
   "outputs": [],
   "source": [
    "json_data = json.load(open(\"data/insurance-rag.json\"))\n",
    "# df = pd.json_normalize(json_data)\n",
    "# df.head()"
   ]
  },
  {
   "cell_type": "code",
   "execution_count": 11,
   "metadata": {},
   "outputs": [],
   "source": [
    "# Function to concatenate relevant fields for service agents\n",
    "def format_service_agent(agent):\n",
    "    return f\"Agent ID: {agent['agent_id']}, Name: {agent['name']}, \" \\\n",
    "           f\"Expertise: {', '.join(agent['area_of_expertise'])}, \" \\\n",
    "           f\"Experience: Health - {agent['experience_handling_health_claims']} years, \" \\\n",
    "           f\"Auto - {agent['experience_handling_auto_claims']} years, \" \\\n",
    "           f\"Property - {agent['experience_handling_property_claims']} years, \" \\\n",
    "           f\"Overall - {agent['overall_experience']} years.\"\n",
    "\n",
    "# Function to concatenate relevant fields for claims\n",
    "def format_claim(claim):\n",
    "    return f\"Claim ID: {claim['claim_id']}, Customer: {claim['customer_name']} ({claim['customer_id']}), \" \\\n",
    "           f\"Insurance Type: {claim['insurance_type']}, Policy Number: {claim['policy_number']}, \" \\\n",
    "           f\"Incident Date: {claim['incident_date']}, Location: {claim['incident_location']}, \" \\\n",
    "           f\"Description: {claim['incident_description']}, Claim Type: {claim['claim_type']}, \" \\\n",
    "           f\"Claim Amount: ${claim['claim_amount']}, Feedback: {claim['claimant_feedback']}\"\n",
    "\n",
    "# Format the data\n",
    "formatted_agents = [format_service_agent(agent) for agent in json_data['service_agents']]\n",
    "formatted_claims = [format_claim(claim) for claim in json_data['claims']]"
   ]
  },
  {
   "cell_type": "code",
   "execution_count": 12,
   "metadata": {},
   "outputs": [],
   "source": [
    "# Create a DataFrame with the formatted text\n",
    "df_agents = pd.DataFrame({'text': formatted_agents})\n",
    "df_claims = pd.DataFrame({'text': formatted_claims})\n",
    "\n",
    "# Combine the DataFrames if needed\n",
    "# df_combined = pd.concat([df_agents, df_claims], ignore_index=True)\n",
    "\n",
    "# Display the DataFrame\n",
    "# df_combined.head()"
   ]
  },
  {
   "cell_type": "code",
   "execution_count": 13,
   "metadata": {},
   "outputs": [
    {
     "data": {
      "text/html": [
       "<div>\n",
       "<style scoped>\n",
       "    .dataframe tbody tr th:only-of-type {\n",
       "        vertical-align: middle;\n",
       "    }\n",
       "\n",
       "    .dataframe tbody tr th {\n",
       "        vertical-align: top;\n",
       "    }\n",
       "\n",
       "    .dataframe thead th {\n",
       "        text-align: right;\n",
       "    }\n",
       "</style>\n",
       "<table border=\"1\" class=\"dataframe\">\n",
       "  <thead>\n",
       "    <tr style=\"text-align: right;\">\n",
       "      <th></th>\n",
       "      <th>text</th>\n",
       "    </tr>\n",
       "  </thead>\n",
       "  <tbody>\n",
       "    <tr>\n",
       "      <th>0</th>\n",
       "      <td>Agent ID: a1, Name: John Smith, Expertise: hea...</td>\n",
       "    </tr>\n",
       "    <tr>\n",
       "      <th>1</th>\n",
       "      <td>Agent ID: a2, Name: Emily Johnson, Expertise: ...</td>\n",
       "    </tr>\n",
       "    <tr>\n",
       "      <th>2</th>\n",
       "      <td>Agent ID: a3, Name: Michael Davis, Expertise: ...</td>\n",
       "    </tr>\n",
       "    <tr>\n",
       "      <th>3</th>\n",
       "      <td>Agent ID: a4, Name: Jessica Williams, Expertis...</td>\n",
       "    </tr>\n",
       "    <tr>\n",
       "      <th>4</th>\n",
       "      <td>Agent ID: a5, Name: David Brown, Expertise: he...</td>\n",
       "    </tr>\n",
       "  </tbody>\n",
       "</table>\n",
       "</div>"
      ],
      "text/plain": [
       "                                                text\n",
       "0  Agent ID: a1, Name: John Smith, Expertise: hea...\n",
       "1  Agent ID: a2, Name: Emily Johnson, Expertise: ...\n",
       "2  Agent ID: a3, Name: Michael Davis, Expertise: ...\n",
       "3  Agent ID: a4, Name: Jessica Williams, Expertis...\n",
       "4  Agent ID: a5, Name: David Brown, Expertise: he..."
      ]
     },
     "execution_count": 13,
     "metadata": {},
     "output_type": "execute_result"
    }
   ],
   "source": [
    "df_agents.head()"
   ]
  },
  {
   "cell_type": "code",
   "execution_count": 14,
   "metadata": {},
   "outputs": [
    {
     "data": {
      "text/html": [
       "<div>\n",
       "<style scoped>\n",
       "    .dataframe tbody tr th:only-of-type {\n",
       "        vertical-align: middle;\n",
       "    }\n",
       "\n",
       "    .dataframe tbody tr th {\n",
       "        vertical-align: top;\n",
       "    }\n",
       "\n",
       "    .dataframe thead th {\n",
       "        text-align: right;\n",
       "    }\n",
       "</style>\n",
       "<table border=\"1\" class=\"dataframe\">\n",
       "  <thead>\n",
       "    <tr style=\"text-align: right;\">\n",
       "      <th></th>\n",
       "      <th>text</th>\n",
       "    </tr>\n",
       "  </thead>\n",
       "  <tbody>\n",
       "    <tr>\n",
       "      <th>0</th>\n",
       "      <td>Claim ID: C001, Customer: John Doe (cust001), ...</td>\n",
       "    </tr>\n",
       "    <tr>\n",
       "      <th>1</th>\n",
       "      <td>Claim ID: C002, Customer: John Doe (cust001), ...</td>\n",
       "    </tr>\n",
       "    <tr>\n",
       "      <th>2</th>\n",
       "      <td>Claim ID: C003, Customer: John Doe (cust001), ...</td>\n",
       "    </tr>\n",
       "    <tr>\n",
       "      <th>3</th>\n",
       "      <td>Claim ID: C004, Customer: Jane Smith (cust002)...</td>\n",
       "    </tr>\n",
       "    <tr>\n",
       "      <th>4</th>\n",
       "      <td>Claim ID: C005, Customer: Jane Smith (cust002)...</td>\n",
       "    </tr>\n",
       "  </tbody>\n",
       "</table>\n",
       "</div>"
      ],
      "text/plain": [
       "                                                text\n",
       "0  Claim ID: C001, Customer: John Doe (cust001), ...\n",
       "1  Claim ID: C002, Customer: John Doe (cust001), ...\n",
       "2  Claim ID: C003, Customer: John Doe (cust001), ...\n",
       "3  Claim ID: C004, Customer: Jane Smith (cust002)...\n",
       "4  Claim ID: C005, Customer: Jane Smith (cust002)..."
      ]
     },
     "execution_count": 14,
     "metadata": {},
     "output_type": "execute_result"
    }
   ],
   "source": [
    "df_claims.head()"
   ]
  },
  {
   "cell_type": "code",
   "execution_count": 15,
   "metadata": {},
   "outputs": [
    {
     "data": {
      "text/html": [
       "<div>\n",
       "<style scoped>\n",
       "    .dataframe tbody tr th:only-of-type {\n",
       "        vertical-align: middle;\n",
       "    }\n",
       "\n",
       "    .dataframe tbody tr th {\n",
       "        vertical-align: top;\n",
       "    }\n",
       "\n",
       "    .dataframe thead th {\n",
       "        text-align: right;\n",
       "    }\n",
       "</style>\n",
       "<table border=\"1\" class=\"dataframe\">\n",
       "  <thead>\n",
       "    <tr style=\"text-align: right;\">\n",
       "      <th></th>\n",
       "      <th>text</th>\n",
       "      <th>embeddings</th>\n",
       "    </tr>\n",
       "  </thead>\n",
       "  <tbody>\n",
       "    <tr>\n",
       "      <th>0</th>\n",
       "      <td>Agent ID: a1, Name: John Smith, Expertise: hea...</td>\n",
       "      <td>[-0.01269555278122425, 0.030452121049165726, 0...</td>\n",
       "    </tr>\n",
       "    <tr>\n",
       "      <th>1</th>\n",
       "      <td>Agent ID: a2, Name: Emily Johnson, Expertise: ...</td>\n",
       "      <td>[-0.006803390569984913, 0.01536078006029129, 0...</td>\n",
       "    </tr>\n",
       "    <tr>\n",
       "      <th>2</th>\n",
       "      <td>Agent ID: a3, Name: Michael Davis, Expertise: ...</td>\n",
       "      <td>[-0.006611726246774197, 0.03933609649538994, 0...</td>\n",
       "    </tr>\n",
       "    <tr>\n",
       "      <th>3</th>\n",
       "      <td>Agent ID: a4, Name: Jessica Williams, Expertis...</td>\n",
       "      <td>[-0.00781966932117939, 0.03978852555155754, 0....</td>\n",
       "    </tr>\n",
       "    <tr>\n",
       "      <th>4</th>\n",
       "      <td>Agent ID: a5, Name: David Brown, Expertise: he...</td>\n",
       "      <td>[-0.01266653835773468, 0.044551748782396317, 0...</td>\n",
       "    </tr>\n",
       "  </tbody>\n",
       "</table>\n",
       "</div>"
      ],
      "text/plain": [
       "                                                text  \\\n",
       "0  Agent ID: a1, Name: John Smith, Expertise: hea...   \n",
       "1  Agent ID: a2, Name: Emily Johnson, Expertise: ...   \n",
       "2  Agent ID: a3, Name: Michael Davis, Expertise: ...   \n",
       "3  Agent ID: a4, Name: Jessica Williams, Expertis...   \n",
       "4  Agent ID: a5, Name: David Brown, Expertise: he...   \n",
       "\n",
       "                                          embeddings  \n",
       "0  [-0.01269555278122425, 0.030452121049165726, 0...  \n",
       "1  [-0.006803390569984913, 0.01536078006029129, 0...  \n",
       "2  [-0.006611726246774197, 0.03933609649538994, 0...  \n",
       "3  [-0.00781966932117939, 0.03978852555155754, 0....  \n",
       "4  [-0.01266653835773468, 0.044551748782396317, 0...  "
      ]
     },
     "execution_count": 15,
     "metadata": {},
     "output_type": "execute_result"
    }
   ],
   "source": [
    "# df = pd.DataFrame()\n",
    "df_agents['embeddings'] = df_agents['text'].apply(get_embedding)\n",
    "df_agents.to_csv(\"output/df_agents.csv\", index=False)\n",
    "df_agents.to_pickle(\"output/df_agents.pkl\")\n",
    "df_agents.head()"
   ]
  },
  {
   "cell_type": "code",
   "execution_count": 16,
   "metadata": {},
   "outputs": [
    {
     "data": {
      "text/html": [
       "<div>\n",
       "<style scoped>\n",
       "    .dataframe tbody tr th:only-of-type {\n",
       "        vertical-align: middle;\n",
       "    }\n",
       "\n",
       "    .dataframe tbody tr th {\n",
       "        vertical-align: top;\n",
       "    }\n",
       "\n",
       "    .dataframe thead th {\n",
       "        text-align: right;\n",
       "    }\n",
       "</style>\n",
       "<table border=\"1\" class=\"dataframe\">\n",
       "  <thead>\n",
       "    <tr style=\"text-align: right;\">\n",
       "      <th></th>\n",
       "      <th>text</th>\n",
       "      <th>embeddings</th>\n",
       "    </tr>\n",
       "  </thead>\n",
       "  <tbody>\n",
       "    <tr>\n",
       "      <th>0</th>\n",
       "      <td>Claim ID: C001, Customer: John Doe (cust001), ...</td>\n",
       "      <td>[-0.03872453793883324, 0.007137414999306202, -...</td>\n",
       "    </tr>\n",
       "    <tr>\n",
       "      <th>1</th>\n",
       "      <td>Claim ID: C002, Customer: John Doe (cust001), ...</td>\n",
       "      <td>[-0.0468469113111496, 0.0003111716650892049, -...</td>\n",
       "    </tr>\n",
       "    <tr>\n",
       "      <th>2</th>\n",
       "      <td>Claim ID: C003, Customer: John Doe (cust001), ...</td>\n",
       "      <td>[-0.022890795022249222, 0.016941990703344345, ...</td>\n",
       "    </tr>\n",
       "    <tr>\n",
       "      <th>3</th>\n",
       "      <td>Claim ID: C004, Customer: Jane Smith (cust002)...</td>\n",
       "      <td>[-0.025329919531941414, -0.0008615886326879263...</td>\n",
       "    </tr>\n",
       "    <tr>\n",
       "      <th>4</th>\n",
       "      <td>Claim ID: C005, Customer: Jane Smith (cust002)...</td>\n",
       "      <td>[-0.010141157545149326, -0.026256050914525986,...</td>\n",
       "    </tr>\n",
       "  </tbody>\n",
       "</table>\n",
       "</div>"
      ],
      "text/plain": [
       "                                                text  \\\n",
       "0  Claim ID: C001, Customer: John Doe (cust001), ...   \n",
       "1  Claim ID: C002, Customer: John Doe (cust001), ...   \n",
       "2  Claim ID: C003, Customer: John Doe (cust001), ...   \n",
       "3  Claim ID: C004, Customer: Jane Smith (cust002)...   \n",
       "4  Claim ID: C005, Customer: Jane Smith (cust002)...   \n",
       "\n",
       "                                          embeddings  \n",
       "0  [-0.03872453793883324, 0.007137414999306202, -...  \n",
       "1  [-0.0468469113111496, 0.0003111716650892049, -...  \n",
       "2  [-0.022890795022249222, 0.016941990703344345, ...  \n",
       "3  [-0.025329919531941414, -0.0008615886326879263...  \n",
       "4  [-0.010141157545149326, -0.026256050914525986,...  "
      ]
     },
     "execution_count": 16,
     "metadata": {},
     "output_type": "execute_result"
    }
   ],
   "source": [
    "df_claims['embeddings'] = df_claims['text'].apply(get_embedding)\n",
    "df_claims.to_csv(\"output/df_claims.csv\", index=False)\n",
    "df_claims.to_pickle(\"output/df_claims.pkl\")\n",
    "df_claims.head()"
   ]
  },
  {
   "cell_type": "code",
   "execution_count": 29,
   "metadata": {},
   "outputs": [
    {
     "data": {
      "text/plain": [
       "('Most experienced agent for auto claims',\n",
       " [-0.015063775703310966,\n",
       "  0.013776155188679695,\n",
       "  0.01597757078707218,\n",
       "  0.0563507042825222,\n",
       "  -0.03563801199197769,\n",
       "  0.0013196379877626896,\n",
       "  -0.04372371360659599,\n",
       "  0.008660286664962769,\n",
       "  -0.01729288138449192,\n",
       "  -0.005077793728560209],\n",
       " '...')"
      ]
     },
     "execution_count": 29,
     "metadata": {},
     "output_type": "execute_result"
    }
   ],
   "source": [
    "question = \"Most experienced agent for auto claims\"\n",
    "question_embedding = get_embedding(question)   \n",
    "question, question_embedding[0:10], \"...\""
   ]
  },
  {
   "cell_type": "code",
   "execution_count": 30,
   "metadata": {},
   "outputs": [
    {
     "data": {
      "text/html": [
       "<div>\n",
       "<style scoped>\n",
       "    .dataframe tbody tr th:only-of-type {\n",
       "        vertical-align: middle;\n",
       "    }\n",
       "\n",
       "    .dataframe tbody tr th {\n",
       "        vertical-align: top;\n",
       "    }\n",
       "\n",
       "    .dataframe thead th {\n",
       "        text-align: right;\n",
       "    }\n",
       "</style>\n",
       "<table border=\"1\" class=\"dataframe\">\n",
       "  <thead>\n",
       "    <tr style=\"text-align: right;\">\n",
       "      <th></th>\n",
       "      <th>text</th>\n",
       "      <th>embeddings</th>\n",
       "      <th>distance</th>\n",
       "    </tr>\n",
       "  </thead>\n",
       "  <tbody>\n",
       "    <tr>\n",
       "      <th>0</th>\n",
       "      <td>Agent ID: a1, Name: John Smith, Expertise: hea...</td>\n",
       "      <td>[-0.01269555278122425, 0.030452121049165726, 0...</td>\n",
       "      <td>0.501658</td>\n",
       "    </tr>\n",
       "    <tr>\n",
       "      <th>1</th>\n",
       "      <td>Agent ID: a2, Name: Emily Johnson, Expertise: ...</td>\n",
       "      <td>[-0.006803390569984913, 0.01536078006029129, 0...</td>\n",
       "      <td>0.447491</td>\n",
       "    </tr>\n",
       "    <tr>\n",
       "      <th>2</th>\n",
       "      <td>Agent ID: a3, Name: Michael Davis, Expertise: ...</td>\n",
       "      <td>[-0.006611726246774197, 0.03933609649538994, 0...</td>\n",
       "      <td>0.513587</td>\n",
       "    </tr>\n",
       "    <tr>\n",
       "      <th>3</th>\n",
       "      <td>Agent ID: a4, Name: Jessica Williams, Expertis...</td>\n",
       "      <td>[-0.00781966932117939, 0.03978852555155754, 0....</td>\n",
       "      <td>0.455304</td>\n",
       "    </tr>\n",
       "    <tr>\n",
       "      <th>4</th>\n",
       "      <td>Agent ID: a5, Name: David Brown, Expertise: he...</td>\n",
       "      <td>[-0.01266653835773468, 0.044551748782396317, 0...</td>\n",
       "      <td>0.489026</td>\n",
       "    </tr>\n",
       "  </tbody>\n",
       "</table>\n",
       "</div>"
      ],
      "text/plain": [
       "                                                text  \\\n",
       "0  Agent ID: a1, Name: John Smith, Expertise: hea...   \n",
       "1  Agent ID: a2, Name: Emily Johnson, Expertise: ...   \n",
       "2  Agent ID: a3, Name: Michael Davis, Expertise: ...   \n",
       "3  Agent ID: a4, Name: Jessica Williams, Expertis...   \n",
       "4  Agent ID: a5, Name: David Brown, Expertise: he...   \n",
       "\n",
       "                                          embeddings  distance  \n",
       "0  [-0.01269555278122425, 0.030452121049165726, 0...  0.501658  \n",
       "1  [-0.006803390569984913, 0.01536078006029129, 0...  0.447491  \n",
       "2  [-0.006611726246774197, 0.03933609649538994, 0...  0.513587  \n",
       "3  [-0.00781966932117939, 0.03978852555155754, 0....  0.455304  \n",
       "4  [-0.01266653835773468, 0.044551748782396317, 0...  0.489026  "
      ]
     },
     "execution_count": 30,
     "metadata": {},
     "output_type": "execute_result"
    }
   ],
   "source": [
    "def fn(page_embedding):\n",
    "    return np.dot(page_embedding, question_embedding)\n",
    "\n",
    "df_agents['distance'] = df_agents['embeddings'].apply(fn)\n",
    "df_agents.head()"
   ]
  }
 ],
 "metadata": {
  "kernelspec": {
   "display_name": "venv",
   "language": "python",
   "name": "python3"
  },
  "language_info": {
   "codemirror_mode": {
    "name": "ipython",
    "version": 3
   },
   "file_extension": ".py",
   "mimetype": "text/x-python",
   "name": "python",
   "nbconvert_exporter": "python",
   "pygments_lexer": "ipython3",
   "version": "3.12.7"
  }
 },
 "nbformat": 4,
 "nbformat_minor": 2
}
