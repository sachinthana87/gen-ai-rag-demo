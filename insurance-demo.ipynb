{
 "cells": [
  {
   "cell_type": "code",
   "execution_count": 6,
   "metadata": {},
   "outputs": [
    {
     "data": {
      "text/html": [
       "\n",
       "    <style>\n",
       "        .output_area pre {\n",
       "            white-space: pre-wrap;\n",
       "        }\n",
       "    </style>\n"
      ],
      "text/plain": [
       "<IPython.core.display.HTML object>"
      ]
     },
     "metadata": {},
     "output_type": "display_data"
    }
   ],
   "source": [
    "from IPython.display import display, HTML\n",
    "\n",
    "# Apply word wrapping to notebook outputs\n",
    "display(HTML('''\n",
    "    <style>\n",
    "        .output_area pre {\n",
    "            white-space: pre-wrap;\n",
    "        }\n",
    "    </style>\n",
    "'''))\n",
    "\n",
    "import json\n",
    "import pandas as pd\n",
    "import time\n",
    "from openai import OpenAI\n",
    "import os\n",
    "import ast\n",
    "import numpy as np\n",
    "import pdb\n",
    "from dotenv import load_dotenv\n",
    "from pprint import pprint\n",
    "from openai import RateLimitError, AuthenticationError, APIConnectionError, APIError\n",
    "\n",
    "# Load environment variables from .env file\n",
    "load_dotenv()\n",
    "\n",
    "# Initialize OpenAI client with API key from environment variable\n",
    "client = OpenAI(api_key=os.environ.get(\"OPENAI_API_KEY\"))\n",
    "\n",
    "def get_response(user_content:str, system_content:str=None, assistant_content:str=None):\n",
    "    try:\n",
    "        messages = [{\"role\": \"user\", \"content\": user_content}]\n",
    "\n",
    "        if system_content is not None:\n",
    "            messages.append({\"role\": \"system\", \"content\": system_content})\n",
    "\n",
    "        if assistant_content is not None:\n",
    "            messages.append({\"role\": \"assistant\", \"content\": assistant_content})\n",
    "\n",
    "        response = client.chat.completions.create(\n",
    "            model=\"gpt-3.5-turbo\",\n",
    "            messages=messages\n",
    "        )\n",
    "        return response\n",
    "    except RateLimitError as e:\n",
    "        print(f\"Rate limit exceeded: {e}\")\n",
    "        # print(\"Retrying after 60 seconds...\")\n",
    "        # time.sleep(60)  # Wait for 60 seconds before retrying\n",
    "        # return get_response(question)\n",
    "        # return response\n",
    "    except APIConnectionError as e:\n",
    "        print(f\"API connection error: {e}\")\n",
    "    except AuthenticationError as e:\n",
    "        print(f\"Authentication error: {e}\")\n",
    "    except Exception as e:\n",
    "        print(f\"An unexpected error occurred: {e}\")\n",
    "\n",
    "\n",
    "def get_embedding(text, model=\"text-embedding-3-small\"):\n",
    "    try:\n",
    "        text = text.replace(\"\\n\", \" \")\n",
    "        response = client.embeddings.create(\n",
    "            model=model,\n",
    "            input=[text]\n",
    "        )\n",
    "        return response.data[0].embedding\n",
    "    except RateLimitError as e:\n",
    "        print(f\"Rate limit exceeded: {e}\")\n",
    "        # print(\"Retrying after 60 seconds...\")\n",
    "        # time.sleep(60)  # Wait for 60 seconds before retrying\n",
    "        # return get_response(question)\n",
    "        # return response\n",
    "    except APIConnectionError as e:\n",
    "        print(f\"API connection error: {e}\")\n",
    "    except AuthenticationError as e:\n",
    "        print(f\"Authentication error: {e}\")\n",
    "    except Exception as e:\n",
    "        print(f\"An unexpected error occurred: {e}\")"
   ]
  },
  {
   "cell_type": "code",
   "execution_count": 5,
   "metadata": {},
   "outputs": [
    {
     "data": {
      "text/plain": [
       "(['Agent ID: a1, Name: John Smith, Expertise: health, auto, Experience: Health - 7 years, Auto - 6 years, Property - 4 years, Overall - 6 years.',\n",
       "  'Agent ID: a2, Name: Emily Johnson, Expertise: property, Experience: Health - 2 years, Auto - 3 years, Property - 8 years, Overall - 4 years.',\n",
       "  'Agent ID: a3, Name: Michael Davis, Expertise: auto, property, Experience: Health - 3 years, Auto - 8 years, Property - 7 years, Overall - 6 years.',\n",
       "  'Agent ID: a4, Name: Jessica Williams, Expertise: health, Experience: Health - 9 years, Auto - 1 years, Property - 2 years, Overall - 4 years.',\n",
       "  'Agent ID: a5, Name: David Brown, Expertise: health, auto, property, Experience: Health - 6 years, Auto - 7 years, Property - 5 years, Overall - 6 years.',\n",
       "  'Agent ID: a6, Name: Sophia Martinez, Expertise: auto, Experience: Health - 2 years, Auto - 9 years, Property - 3 years, Overall - 5 years.',\n",
       "  'Agent ID: a7, Name: James Anderson, Expertise: health, property, Experience: Health - 8 years, Auto - 2 years, Property - 7 years, Overall - 6 years.',\n",
       "  'Agent ID: a8, Name: Olivia Garcia, Expertise: auto, property, Experience: Health - 1 years, Auto - 6 years, Property - 9 years, Overall - 5 years.',\n",
       "  'Agent ID: a9, Name: Lucas Clark, Expertise: health, Experience: Health - 10 years, Auto - 3 years, Property - 4 years, Overall - 6 years.',\n",
       "  'Agent ID: a10, Name: Mia Rodriguez, Expertise: property, Experience: Health - 3 years, Auto - 1 years, Property - 7 years, Overall - 4 years.',\n",
       "  'Agent ID: a11, Name: William Moore, Expertise: auto, Experience: Health - 2 years, Auto - 8 years, Property - 4 years, Overall - 5 years.',\n",
       "  'Agent ID: a12, Name: Ava Thomas, Expertise: health, property, Experience: Health - 9 years, Auto - 2 years, Property - 6 years, Overall - 6 years.',\n",
       "  'Agent ID: a13, Name: Ethan Jackson, Expertise: health, auto, Experience: Health - 7 years, Auto - 8 years, Property - 3 years, Overall - 6 years.',\n",
       "  'Agent ID: a14, Name: Isabella Martinez, Expertise: property, Experience: Health - 4 years, Auto - 3 years, Property - 9 years, Overall - 5 years.',\n",
       "  'Agent ID: a15, Name: Alexander Lee, Expertise: auto, Experience: Health - 1 years, Auto - 7 years, Property - 2 years, Overall - 3 years.',\n",
       "  'Agent ID: a16, Name: Charlotte Perez, Expertise: health, auto, Experience: Health - 6 years, Auto - 5 years, Property - 4 years, Overall - 5 years.',\n",
       "  'Agent ID: a17, Name: Benjamin Young, Expertise: property, Experience: Health - 2 years, Auto - 1 years, Property - 8 years, Overall - 4 years.',\n",
       "  'Agent ID: a18, Name: Amelia Thompson, Expertise: health, auto, Experience: Health - 8 years, Auto - 7 years, Property - 3 years, Overall - 6 years.',\n",
       "  'Agent ID: a19, Name: Henry White, Expertise: health, property, Experience: Health - 5 years, Auto - 2 years, Property - 9 years, Overall - 5 years.',\n",
       "  'Agent ID: a20, Name: Sophia Harris, Expertise: auto, Experience: Health - 1 years, Auto - 8 years, Property - 4 years, Overall - 4 years.',\n",
       "  'Agent ID: a21, Name: Logan Martin, Expertise: health, property, Experience: Health - 9 years, Auto - 3 years, Property - 6 years, Overall - 6 years.',\n",
       "  'Agent ID: a22, Name: Avery Lewis, Expertise: auto, Experience: Health - 2 years, Auto - 9 years, Property - 5 years, Overall - 5 years.',\n",
       "  'Agent ID: a23, Name: Carter Hall, Expertise: health, auto, property, Experience: Health - 8 years, Auto - 6 years, Property - 4 years, Overall - 6 years.',\n",
       "  'Agent ID: a24, Name: Grace Allen, Expertise: property, Experience: Health - 3 years, Auto - 2 years, Property - 8 years, Overall - 4 years.',\n",
       "  'Agent ID: a25, Name: Lucas Adams, Expertise: auto, Experience: Health - 1 years, Auto - 7 years, Property - 5 years, Overall - 4 years.',\n",
       "  'Agent ID: a26, Name: Ella King, Expertise: health, property, Experience: Health - 10 years, Auto - 1 years, Property - 9 years, Overall - 7 years.',\n",
       "  'Agent ID: a27, Name: Jack Scott, Expertise: health, Experience: Health - 8 years, Auto - 2 years, Property - 4 years, Overall - 5 years.',\n",
       "  'Agent ID: a28, Name: Chloe Green, Expertise: auto, property, Experience: Health - 3 years, Auto - 9 years, Property - 7 years, Overall - 6 years.',\n",
       "  'Agent ID: a29, Name: Samuel Baker, Expertise: health, auto, Experience: Health - 7 years, Auto - 8 years, Property - 5 years, Overall - 7 years.',\n",
       "  'Agent ID: a30, Name: Abigail Wright, Expertise: property, Experience: Health - 4 years, Auto - 3 years, Property - 9 years, Overall - 5 years.',\n",
       "  'Agent ID: a31, Name: Mason Rivera, Expertise: auto, Experience: Health - 2 years, Auto - 6 years, Property - 4 years, Overall - 4 years.',\n",
       "  'Agent ID: a32, Name: Avery Cox, Expertise: health, property, Experience: Health - 9 years, Auto - 3 years, Property - 6 years, Overall - 6 years.',\n",
       "  'Agent ID: a33, Name: Elijah Morgan, Expertise: auto, property, Experience: Health - 3 years, Auto - 7 years, Property - 8 years, Overall - 6 years.',\n",
       "  'Agent ID: a34, Name: Harper Bell, Expertise: health, Experience: Health - 10 years, Auto - 1 years, Property - 2 years, Overall - 4 years.',\n",
       "  'Agent ID: a35, Name: Ethan Barnes, Expertise: auto, property, Experience: Health - 4 years, Auto - 8 years, Property - 6 years, Overall - 6 years.',\n",
       "  'Agent ID: a36, Name: Mila Torres, Expertise: health, Experience: Health - 8 years, Auto - 3 years, Property - 5 years, Overall - 5 years.',\n",
       "  'Agent ID: a37, Name: Daniel Ramirez, Expertise: auto, Experience: Health - 2 years, Auto - 9 years, Property - 3 years, Overall - 5 years.',\n",
       "  'Agent ID: a38, Name: Lily Howard, Expertise: health, property, Experience: Health - 7 years, Auto - 2 years, Property - 6 years, Overall - 5 years.',\n",
       "  'Agent ID: a39, Name: Jacob Ward, Expertise: auto, property, Experience: Health - 1 years, Auto - 7 years, Property - 8 years, Overall - 5 years.',\n",
       "  'Agent ID: a40, Name: Hannah Brooks, Expertise: health, Experience: Health - 9 years, Auto - 4 years, Property - 3 years, Overall - 5 years.',\n",
       "  'Agent ID: a41, Name: Jackson Foster, Expertise: auto, property, Experience: Health - 2 years, Auto - 8 years, Property - 5 years, Overall - 5 years.',\n",
       "  'Agent ID: a42, Name: Scarlett Bennett, Expertise: health, auto, Experience: Health - 6 years, Auto - 7 years, Property - 3 years, Overall - 6 years.',\n",
       "  'Agent ID: a43, Name: Sebastian Powell, Expertise: property, Experience: Health - 3 years, Auto - 1 years, Property - 7 years, Overall - 4 years.',\n",
       "  'Agent ID: a44, Name: Zoe Hayes, Expertise: auto, Experience: Health - 2 years, Auto - 8 years, Property - 4 years, Overall - 5 years.',\n",
       "  'Agent ID: a45, Name: Levi Gonzalez, Expertise: health, auto, property, Experience: Health - 8 years, Auto - 6 years, Property - 5 years, Overall - 6 years.',\n",
       "  'Agent ID: a46, Name: Layla Cooper, Expertise: property, Experience: Health - 3 years, Auto - 4 years, Property - 9 years, Overall - 5 years.',\n",
       "  'Agent ID: a47, Name: Isaac Peterson, Expertise: auto, Experience: Health - 2 years, Auto - 8 years, Property - 6 years, Overall - 5 years.',\n",
       "  'Agent ID: a48, Name: Grace Foster, Expertise: health, auto, property, Experience: Health - 7 years, Auto - 5 years, Property - 6 years, Overall - 6 years.',\n",
       "  'Agent ID: a49, Name: Logan Brooks, Expertise: property, Experience: Health - 3 years, Auto - 1 years, Property - 8 years, Overall - 4 years.',\n",
       "  'Agent ID: a50, Name: Chloe Bailey, Expertise: health, Experience: Health - 10 years, Auto - 2 years, Property - 3 years, Overall - 5 years.'],\n",
       " ['Claim ID: C001, Customer: John Doe (cust001), Insurance Type: Health, Policy Number: P10001, Incident Date: 2024-08-15, Location: XYZ Hospital, Description: Treatment for broken arm after a fall., Claim Type: Medical Expense, Claim Amount: $2000, Feedback: The process was very smooth. Great service.',\n",
       "  'Claim ID: C002, Customer: John Doe (cust001), Insurance Type: Auto, Policy Number: P10002, Incident Date: 2024-09-10, Location: 5th Avenue, NY, Description: Minor collision at an intersection., Claim Type: Collision Damage, Claim Amount: $5000, Feedback: The agent was a bit slow to respond.',\n",
       "  'Claim ID: C003, Customer: John Doe (cust001), Insurance Type: Property, Policy Number: P10003, Incident Date: 2024-07-22, Location: 123 Elm St, Description: Roof damage due to a storm., Claim Type: Weather Damage, Claim Amount: $8000, Feedback: Neutral experience, nothing remarkable.',\n",
       "  'Claim ID: C004, Customer: Jane Smith (cust002), Insurance Type: Health, Policy Number: P20001, Incident Date: 2024-06-30, Location: ABC Clinic, Description: Treatment for a sprained ankle., Claim Type: Medical Expense, Claim Amount: $800, Feedback: The process was straightforward. No issues.',\n",
       "  'Claim ID: C005, Customer: Jane Smith (cust002), Insurance Type: Auto, Policy Number: P20002, Incident Date: 2024-09-05, Location: Main St, LA, Description: Fender bender at a stoplight., Claim Type: Collision Damage, Claim Amount: $3000, Feedback: The agent didn’t seem helpful at all.',\n",
       "  'Claim ID: C006, Customer: Jane Smith (cust002), Insurance Type: Property, Policy Number: P20003, Incident Date: 2024-10-01, Location: 45 Ocean Ave, Description: Flooding in the basement after heavy rain., Claim Type: Water Damage, Claim Amount: $6000, Feedback: Good overall experience, no complaints.',\n",
       "  'Claim ID: C007, Customer: Michael Johnson (cust003), Insurance Type: Health, Policy Number: P30001, Incident Date: 2024-05-14, Location: XYZ Health Center, Description: Routine health check-up., Claim Type: Routine Check-up, Claim Amount: $300, Feedback: The process took longer than expected.',\n",
       "  'Claim ID: C008, Customer: Michael Johnson (cust003), Insurance Type: Auto, Policy Number: P30002, Incident Date: 2024-07-21, Location: Highway 101, Description: Vehicle breakdown due to engine failure., Claim Type: Mechanical Breakdown, Claim Amount: $4000, Feedback: Very helpful agent, resolved quickly.',\n",
       "  'Claim ID: C009, Customer: Michael Johnson (cust003), Insurance Type: Property, Policy Number: P30003, Incident Date: 2024-03-29, Location: 12 Oak St, Description: Garage fire caused by electrical fault., Claim Type: Fire Damage, Claim Amount: $12000, Feedback: The process was frustrating and slow.',\n",
       "  'Claim ID: C010, Customer: Emily Davis (cust004), Insurance Type: Health, Policy Number: P40001, Incident Date: 2024-06-12, Location: Sunrise Medical Center, Description: Surgery for appendix removal., Claim Type: Surgical Expense, Claim Amount: $7000, Feedback: Everything was handled quickly and smoothly.',\n",
       "  'Claim ID: C011, Customer: Emily Davis (cust004), Insurance Type: Auto, Policy Number: P40002, Incident Date: 2024-08-19, Location: Main St, Chicago, Description: Hit-and-run incident., Claim Type: Collision Damage, Claim Amount: $6000, Feedback: Very unhappy with the slow response.',\n",
       "  'Claim ID: C012, Customer: Emily Davis (cust004), Insurance Type: Property, Policy Number: P40003, Incident Date: 2024-04-18, Location: 35 Pine St, Description: Tree fell on roof during a storm., Claim Type: Storm Damage, Claim Amount: $9000, Feedback: The service was excellent.',\n",
       "  'Claim ID: C013, Customer: David Wilson (cust005), Insurance Type: Health, Policy Number: P50001, Incident Date: 2024-02-14, Location: XYZ Clinic, Description: Treatment for flu., Claim Type: Medical Expense, Claim Amount: $400, Feedback: The process was slow but acceptable.',\n",
       "  'Claim ID: C014, Customer: David Wilson (cust005), Insurance Type: Auto, Policy Number: P50002, Incident Date: 2024-05-05, Location: Broadway, NY, Description: Side collision with another vehicle., Claim Type: Collision Damage, Claim Amount: $7000, Feedback: Frustrated by the slow process.',\n",
       "  'Claim ID: C015, Customer: David Wilson (cust005), Insurance Type: Property, Policy Number: P50003, Incident Date: 2024-03-15, Location: 789 Maple St, Description: Basement flooding after heavy rain., Claim Type: Water Damage, Claim Amount: $8000, Feedback: Satisfied with how quickly the claim was handled.'],\n",
       " '...')"
      ]
     },
     "execution_count": 5,
     "metadata": {},
     "output_type": "execute_result"
    }
   ],
   "source": [
    "json_data = json.load(open(\"data/insurance-rag.json\"))\n",
    "# Function to concatenate relevant fields for service agents\n",
    "def format_service_agent(agent):\n",
    "    return f\"Agent ID: {agent['agent_id']}, Name: {agent['name']}, \" \\\n",
    "           f\"Expertise: {', '.join(agent['area_of_expertise'])}, \" \\\n",
    "           f\"Experience: Health - {agent['experience_handling_health_claims']} years, \" \\\n",
    "           f\"Auto - {agent['experience_handling_auto_claims']} years, \" \\\n",
    "           f\"Property - {agent['experience_handling_property_claims']} years, \" \\\n",
    "           f\"Overall - {agent['overall_experience']} years.\"\n",
    "\n",
    "# Function to concatenate relevant fields for claims\n",
    "def format_claim(claim):\n",
    "    return f\"Claim ID: {claim['claim_id']}, Customer: {claim['customer_name']} ({claim['customer_id']}), \" \\\n",
    "           f\"Insurance Type: {claim['insurance_type']}, Policy Number: {claim['policy_number']}, \" \\\n",
    "           f\"Incident Date: {claim['incident_date']}, Location: {claim['incident_location']}, \" \\\n",
    "           f\"Description: {claim['incident_description']}, Claim Type: {claim['claim_type']}, \" \\\n",
    "           f\"Claim Amount: ${claim['claim_amount']}, Feedback: {claim['claimant_feedback']}\"\n",
    "\n",
    "# Format the data\n",
    "formatted_agents = [format_service_agent(agent) for agent in json_data['service_agents']]\n",
    "formatted_claims = [format_claim(claim) for claim in json_data['claims']]\n",
    "formatted_agents, formatted_claims, '...'"
   ]
  },
  {
   "cell_type": "code",
   "execution_count": 15,
   "metadata": {},
   "outputs": [
    {
     "data": {
      "text/plain": [
       "'Here are the details of the past claims:\\n\\nClaim ID: C001, Customer: John Doe (cust001), Insurance Type: Health, Policy Number: P10001, Incident Date: 2024-08-15, Location: XYZ Hospital, Description: Treatment for broken arm after a fall., Claim Type: Medical Expense, Claim Amount: $2000, Feedback: The process was very smooth. Great service.\\n\\nClaim ID: C002, Customer: John Doe (cust001), Insurance Type: Auto, Policy Number: P10002, Incident Date: 2024-09-10, Location: 5th Avenue, NY, Description: Minor collision at an intersection., Claim Type: Collision Damage, Claim Amount: $5000, Feedback: The agent was a bit slow to respond.\\n\\nClaim ID: C003, Customer: John Doe (cust001), Insurance Type: Property, Policy Number: P10003, Incident Date: 2024-07-22, Location: 123 Elm St, Description: Roof damage due to a storm., Claim Type: Weather Damage, Claim Amount: $8000, Feedback: Neutral experience, nothing remarkable.\\n\\nClaim ID: C004, Customer: Jane Smith (cust002), Insurance Type: Health, Policy Number: P20001, Incident Date: 2024-06-30, Location: ABC Clinic, Description: Treatment for a sprained ankle., Claim Type: Medical Expense, Claim Amount: $800, Feedback: The process was straightforward. No issues.\\n\\nClaim ID: C005, Customer: Jane Smith (cust002), Insurance Type: Auto, Policy Number: P20002, Incident Date: 2024-09-05, Location: Main St, LA, Description: Fender bender at a stoplight., Claim Type: Collision Damage, Claim Amount: $3000, Feedback: The agent didn’t seem helpful at all.\\n\\nClaim ID: C006, Customer: Jane Smith (cust002), Insurance Type: Property, Policy Number: P20003, Incident Date: 2024-10-01, Location: 45 Ocean Ave, Description: Flooding in the basement after heavy rain., Claim Type: Water Damage, Claim Amount: $6000, Feedback: Good overall experience, no complaints.\\n\\nClaim ID: C007, Customer: Michael Johnson (cust003), Insurance Type: Health, Policy Number: P30001, Incident Date: 2024-05-14, Location: XYZ Health Center, Description: Routine health check-up., Claim Type: Routine Check-up, Claim Amount: $300, Feedback: The process took longer than expected.\\n\\nClaim ID: C008, Customer: Michael Johnson (cust003), Insurance Type: Auto, Policy Number: P30002, Incident Date: 2024-07-21, Location: Highway 101, Description: Vehicle breakdown due to engine failure., Claim Type: Mechanical Breakdown, Claim Amount: $4000, Feedback: Very helpful agent, resolved quickly.\\n\\nClaim ID: C009, Customer: Michael Johnson (cust003), Insurance Type: Property, Policy Number: P30003, Incident Date: 2024-03-29, Location: 12 Oak St, Description: Garage fire caused by electrical fault., Claim Type: Fire Damage, Claim Amount: $12000, Feedback: The process was frustrating and slow.\\n\\nClaim ID: C010, Customer: Emily Davis (cust004), Insurance Type: Health, Policy Number: P40001, Incident Date: 2024-06-12, Location: Sunrise Medical Center, Description: Surgery for appendix removal., Claim Type: Surgical Expense, Claim Amount: $7000, Feedback: Everything was handled quickly and smoothly.\\n\\nClaim ID: C011, Customer: Emily Davis (cust004), Insurance Type: Auto, Policy Number: P40002, Incident Date: 2024-08-19, Location: Main St, Chicago, Description: Hit-and-run incident., Claim Type: Collision Damage, Claim Amount: $6000, Feedback: Very unhappy with the slow response.\\n\\nClaim ID: C012, Customer: Emily Davis (cust004), Insurance Type: Property, Policy Number: P40003, Incident Date: 2024-04-18, Location: 35 Pine St, Description: Tree fell on roof during a storm., Claim Type: Storm Damage, Claim Amount: $9000, Feedback: The service was excellent.\\n\\nClaim ID: C013, Customer: David Wilson (cust005), Insurance Type: Health, Policy Number: P50001, Incident Date: 2024-02-14, Location: XYZ Clinic, Description: Treatment for flu., Claim Type: Medical Expense, Claim Amount: $400, Feedback: The process was slow but acceptable.\\n\\nClaim ID: C014, Customer: David Wilson (cust005), Insurance Type: Auto, Policy Number: P50002, Incident Date: 2024-05-05, Location: Broadway, NY, Description: Side collision with another vehicle., Claim Type: Collision Damage, Claim Amount: $7000, Feedback: Frustrated by the slow process.\\n\\nClaim ID: C015, Customer: David Wilson (cust005), Insurance Type: Property, Policy Number: P50003, Incident Date: 2024-03-15, Location: 789 Maple St, Description: Basement flooding after heavy rain., Claim Type: Water Damage, Claim Amount: $8000, Feedback: Satisfied with how quickly the claim was handled.\\n\\n'"
      ]
     },
     "execution_count": 15,
     "metadata": {},
     "output_type": "execute_result"
    }
   ],
   "source": [
    "def get_claims_context(formatted_claims):\n",
    "    formatted_str = \"Here are the details of the past claims:\\n\\n\"\n",
    "    for claim in formatted_claims:\n",
    "        formatted_str += claim + \"\\n\\n\"\n",
    "    return formatted_str\n",
    "\n",
    "claims_context = get_claims_context(formatted_claims)\n",
    "claims_context"
   ]
  },
  {
   "cell_type": "code",
   "execution_count": 16,
   "metadata": {},
   "outputs": [
    {
     "data": {
      "text/plain": [
       "'Here are the details of the claim processing agents:\\n\\nAgent ID: a1, Name: John Smith, Expertise: health, auto, Experience: Health - 7 years, Auto - 6 years, Property - 4 years, Overall - 6 years.\\n\\nAgent ID: a2, Name: Emily Johnson, Expertise: property, Experience: Health - 2 years, Auto - 3 years, Property - 8 years, Overall - 4 years.\\n\\nAgent ID: a3, Name: Michael Davis, Expertise: auto, property, Experience: Health - 3 years, Auto - 8 years, Property - 7 years, Overall - 6 years.\\n\\nAgent ID: a4, Name: Jessica Williams, Expertise: health, Experience: Health - 9 years, Auto - 1 years, Property - 2 years, Overall - 4 years.\\n\\nAgent ID: a5, Name: David Brown, Expertise: health, auto, property, Experience: Health - 6 years, Auto - 7 years, Property - 5 years, Overall - 6 years.\\n\\nAgent ID: a6, Name: Sophia Martinez, Expertise: auto, Experience: Health - 2 years, Auto - 9 years, Property - 3 years, Overall - 5 years.\\n\\nAgent ID: a7, Name: James Anderson, Expertise: health, property, Experience: Health - 8 years, Auto - 2 years, Property - 7 years, Overall - 6 years.\\n\\nAgent ID: a8, Name: Olivia Garcia, Expertise: auto, property, Experience: Health - 1 years, Auto - 6 years, Property - 9 years, Overall - 5 years.\\n\\nAgent ID: a9, Name: Lucas Clark, Expertise: health, Experience: Health - 10 years, Auto - 3 years, Property - 4 years, Overall - 6 years.\\n\\nAgent ID: a10, Name: Mia Rodriguez, Expertise: property, Experience: Health - 3 years, Auto - 1 years, Property - 7 years, Overall - 4 years.\\n\\nAgent ID: a11, Name: William Moore, Expertise: auto, Experience: Health - 2 years, Auto - 8 years, Property - 4 years, Overall - 5 years.\\n\\nAgent ID: a12, Name: Ava Thomas, Expertise: health, property, Experience: Health - 9 years, Auto - 2 years, Property - 6 years, Overall - 6 years.\\n\\nAgent ID: a13, Name: Ethan Jackson, Expertise: health, auto, Experience: Health - 7 years, Auto - 8 years, Property - 3 years, Overall - 6 years.\\n\\nAgent ID: a14, Name: Isabella Martinez, Expertise: property, Experience: Health - 4 years, Auto - 3 years, Property - 9 years, Overall - 5 years.\\n\\nAgent ID: a15, Name: Alexander Lee, Expertise: auto, Experience: Health - 1 years, Auto - 7 years, Property - 2 years, Overall - 3 years.\\n\\nAgent ID: a16, Name: Charlotte Perez, Expertise: health, auto, Experience: Health - 6 years, Auto - 5 years, Property - 4 years, Overall - 5 years.\\n\\nAgent ID: a17, Name: Benjamin Young, Expertise: property, Experience: Health - 2 years, Auto - 1 years, Property - 8 years, Overall - 4 years.\\n\\nAgent ID: a18, Name: Amelia Thompson, Expertise: health, auto, Experience: Health - 8 years, Auto - 7 years, Property - 3 years, Overall - 6 years.\\n\\nAgent ID: a19, Name: Henry White, Expertise: health, property, Experience: Health - 5 years, Auto - 2 years, Property - 9 years, Overall - 5 years.\\n\\nAgent ID: a20, Name: Sophia Harris, Expertise: auto, Experience: Health - 1 years, Auto - 8 years, Property - 4 years, Overall - 4 years.\\n\\nAgent ID: a21, Name: Logan Martin, Expertise: health, property, Experience: Health - 9 years, Auto - 3 years, Property - 6 years, Overall - 6 years.\\n\\nAgent ID: a22, Name: Avery Lewis, Expertise: auto, Experience: Health - 2 years, Auto - 9 years, Property - 5 years, Overall - 5 years.\\n\\nAgent ID: a23, Name: Carter Hall, Expertise: health, auto, property, Experience: Health - 8 years, Auto - 6 years, Property - 4 years, Overall - 6 years.\\n\\nAgent ID: a24, Name: Grace Allen, Expertise: property, Experience: Health - 3 years, Auto - 2 years, Property - 8 years, Overall - 4 years.\\n\\nAgent ID: a25, Name: Lucas Adams, Expertise: auto, Experience: Health - 1 years, Auto - 7 years, Property - 5 years, Overall - 4 years.\\n\\nAgent ID: a26, Name: Ella King, Expertise: health, property, Experience: Health - 10 years, Auto - 1 years, Property - 9 years, Overall - 7 years.\\n\\nAgent ID: a27, Name: Jack Scott, Expertise: health, Experience: Health - 8 years, Auto - 2 years, Property - 4 years, Overall - 5 years.\\n\\nAgent ID: a28, Name: Chloe Green, Expertise: auto, property, Experience: Health - 3 years, Auto - 9 years, Property - 7 years, Overall - 6 years.\\n\\nAgent ID: a29, Name: Samuel Baker, Expertise: health, auto, Experience: Health - 7 years, Auto - 8 years, Property - 5 years, Overall - 7 years.\\n\\nAgent ID: a30, Name: Abigail Wright, Expertise: property, Experience: Health - 4 years, Auto - 3 years, Property - 9 years, Overall - 5 years.\\n\\nAgent ID: a31, Name: Mason Rivera, Expertise: auto, Experience: Health - 2 years, Auto - 6 years, Property - 4 years, Overall - 4 years.\\n\\nAgent ID: a32, Name: Avery Cox, Expertise: health, property, Experience: Health - 9 years, Auto - 3 years, Property - 6 years, Overall - 6 years.\\n\\nAgent ID: a33, Name: Elijah Morgan, Expertise: auto, property, Experience: Health - 3 years, Auto - 7 years, Property - 8 years, Overall - 6 years.\\n\\nAgent ID: a34, Name: Harper Bell, Expertise: health, Experience: Health - 10 years, Auto - 1 years, Property - 2 years, Overall - 4 years.\\n\\nAgent ID: a35, Name: Ethan Barnes, Expertise: auto, property, Experience: Health - 4 years, Auto - 8 years, Property - 6 years, Overall - 6 years.\\n\\nAgent ID: a36, Name: Mila Torres, Expertise: health, Experience: Health - 8 years, Auto - 3 years, Property - 5 years, Overall - 5 years.\\n\\nAgent ID: a37, Name: Daniel Ramirez, Expertise: auto, Experience: Health - 2 years, Auto - 9 years, Property - 3 years, Overall - 5 years.\\n\\nAgent ID: a38, Name: Lily Howard, Expertise: health, property, Experience: Health - 7 years, Auto - 2 years, Property - 6 years, Overall - 5 years.\\n\\nAgent ID: a39, Name: Jacob Ward, Expertise: auto, property, Experience: Health - 1 years, Auto - 7 years, Property - 8 years, Overall - 5 years.\\n\\nAgent ID: a40, Name: Hannah Brooks, Expertise: health, Experience: Health - 9 years, Auto - 4 years, Property - 3 years, Overall - 5 years.\\n\\nAgent ID: a41, Name: Jackson Foster, Expertise: auto, property, Experience: Health - 2 years, Auto - 8 years, Property - 5 years, Overall - 5 years.\\n\\nAgent ID: a42, Name: Scarlett Bennett, Expertise: health, auto, Experience: Health - 6 years, Auto - 7 years, Property - 3 years, Overall - 6 years.\\n\\nAgent ID: a43, Name: Sebastian Powell, Expertise: property, Experience: Health - 3 years, Auto - 1 years, Property - 7 years, Overall - 4 years.\\n\\nAgent ID: a44, Name: Zoe Hayes, Expertise: auto, Experience: Health - 2 years, Auto - 8 years, Property - 4 years, Overall - 5 years.\\n\\nAgent ID: a45, Name: Levi Gonzalez, Expertise: health, auto, property, Experience: Health - 8 years, Auto - 6 years, Property - 5 years, Overall - 6 years.\\n\\nAgent ID: a46, Name: Layla Cooper, Expertise: property, Experience: Health - 3 years, Auto - 4 years, Property - 9 years, Overall - 5 years.\\n\\nAgent ID: a47, Name: Isaac Peterson, Expertise: auto, Experience: Health - 2 years, Auto - 8 years, Property - 6 years, Overall - 5 years.\\n\\nAgent ID: a48, Name: Grace Foster, Expertise: health, auto, property, Experience: Health - 7 years, Auto - 5 years, Property - 6 years, Overall - 6 years.\\n\\nAgent ID: a49, Name: Logan Brooks, Expertise: property, Experience: Health - 3 years, Auto - 1 years, Property - 8 years, Overall - 4 years.\\n\\nAgent ID: a50, Name: Chloe Bailey, Expertise: health, Experience: Health - 10 years, Auto - 2 years, Property - 3 years, Overall - 5 years.\\n\\n'"
      ]
     },
     "execution_count": 16,
     "metadata": {},
     "output_type": "execute_result"
    }
   ],
   "source": [
    "def get_agent_context(formatted_agents):\n",
    "    formatted_str = \"Here are the details of the claim processing agents:\\n\\n\"\n",
    "    for claim in formatted_agents:\n",
    "        formatted_str += claim + \"\\n\\n\"\n",
    "    return formatted_str\n",
    "\n",
    "agents_context = get_agent_context(formatted_agents)\n",
    "agents_context"
   ]
  },
  {
   "cell_type": "code",
   "execution_count": 19,
   "metadata": {},
   "outputs": [
    {
     "data": {
      "text/plain": [
       "\"\\nYou are an AI assistant responsible for selecting the most suitable insurance agent to handle a new customer claim. You will be provided with:\\n\\n1. A chat history between a customer and the help desk regarding the claim.\\n2. The customer’s ID, their past claim history, and the available claim details.\\n3. A list of insurance agents, including their expertise and experience in handling various insurance types.\\n\\nYour task is to analyze the conversation and claim details, and based on the customer's needs and the agents' expertise, recommend the most suitable agent to handle the claim.\\n\\nConsider the following factors when choosing the agent:\\n\\n1. Insurance type of the claim.\\n2. The complexity and urgency of the claim.\\n3. The agent’s expertise and experience in handling similar claims.\""
      ]
     },
     "execution_count": 19,
     "metadata": {},
     "output_type": "execute_result"
    }
   ],
   "source": [
    "system_prompt = '''\n",
    "You are an AI assistant responsible for selecting the most suitable insurance agent to handle a new customer claim. You will be provided with:\n",
    "\n",
    "1. A chat history between a customer and the help desk regarding the claim, which will be included in the user's prompt.\n",
    "2. Claim details including The customer id, their past claim history, and the available claim details.\n",
    "3. A list of insurance agents, including their expertise and experience in handling various insurance types.\n",
    "\n",
    "Your task is to analyze the conversation and claim details, and based on the customer's needs and the agents' expertise, recommend the most suitable agent to handle the claim.\n",
    "\n",
    "Consider the following factors when choosing the agent:\n",
    "\n",
    "1. Insurance type of the claim.\n",
    "2. The complexity and urgency of the claim.\n",
    "3. The agent’s expertise and experience in handling similar claims.'''\n",
    "system_prompt"
   ]
  },
  {
   "cell_type": "code",
   "execution_count": 21,
   "metadata": {},
   "outputs": [
    {
     "data": {
      "text/plain": [
       "'\\nYou have been provided with the following information: Here are the details of the past claims:\\n\\nClaim ID: C001, Customer: John Doe (cust001), Insurance Type: Health, Policy Number: P10001, Incident Date: 2024-08-15, Location: XYZ Hospital, Description: Treatment for broken arm after a fall., Claim Type: Medical Expense, Claim Amount: $2000, Feedback: The process was very smooth. Great service.\\n\\nClaim ID: C002, Customer: John Doe (cust001), Insurance Type: Auto, Policy Number: P10002, Incident Date: 2024-09-10, Location: 5th Avenue, NY, Description: Minor collision at an intersection., Claim Type: Collision Damage, Claim Amount: $5000, Feedback: The agent was a bit slow to respond.\\n\\nClaim ID: C003, Customer: John Doe (cust001), Insurance Type: Property, Policy Number: P10003, Incident Date: 2024-07-22, Location: 123 Elm St, Description: Roof damage due to a storm., Claim Type: Weather Damage, Claim Amount: $8000, Feedback: Neutral experience, nothing remarkable.\\n\\nClaim ID: C004, Customer: Jane Smith (cust002), Insurance Type: Health, Policy Number: P20001, Incident Date: 2024-06-30, Location: ABC Clinic, Description: Treatment for a sprained ankle., Claim Type: Medical Expense, Claim Amount: $800, Feedback: The process was straightforward. No issues.\\n\\nClaim ID: C005, Customer: Jane Smith (cust002), Insurance Type: Auto, Policy Number: P20002, Incident Date: 2024-09-05, Location: Main St, LA, Description: Fender bender at a stoplight., Claim Type: Collision Damage, Claim Amount: $3000, Feedback: The agent didn’t seem helpful at all.\\n\\nClaim ID: C006, Customer: Jane Smith (cust002), Insurance Type: Property, Policy Number: P20003, Incident Date: 2024-10-01, Location: 45 Ocean Ave, Description: Flooding in the basement after heavy rain., Claim Type: Water Damage, Claim Amount: $6000, Feedback: Good overall experience, no complaints.\\n\\nClaim ID: C007, Customer: Michael Johnson (cust003), Insurance Type: Health, Policy Number: P30001, Incident Date: 2024-05-14, Location: XYZ Health Center, Description: Routine health check-up., Claim Type: Routine Check-up, Claim Amount: $300, Feedback: The process took longer than expected.\\n\\nClaim ID: C008, Customer: Michael Johnson (cust003), Insurance Type: Auto, Policy Number: P30002, Incident Date: 2024-07-21, Location: Highway 101, Description: Vehicle breakdown due to engine failure., Claim Type: Mechanical Breakdown, Claim Amount: $4000, Feedback: Very helpful agent, resolved quickly.\\n\\nClaim ID: C009, Customer: Michael Johnson (cust003), Insurance Type: Property, Policy Number: P30003, Incident Date: 2024-03-29, Location: 12 Oak St, Description: Garage fire caused by electrical fault., Claim Type: Fire Damage, Claim Amount: $12000, Feedback: The process was frustrating and slow.\\n\\nClaim ID: C010, Customer: Emily Davis (cust004), Insurance Type: Health, Policy Number: P40001, Incident Date: 2024-06-12, Location: Sunrise Medical Center, Description: Surgery for appendix removal., Claim Type: Surgical Expense, Claim Amount: $7000, Feedback: Everything was handled quickly and smoothly.\\n\\nClaim ID: C011, Customer: Emily Davis (cust004), Insurance Type: Auto, Policy Number: P40002, Incident Date: 2024-08-19, Location: Main St, Chicago, Description: Hit-and-run incident., Claim Type: Collision Damage, Claim Amount: $6000, Feedback: Very unhappy with the slow response.\\n\\nClaim ID: C012, Customer: Emily Davis (cust004), Insurance Type: Property, Policy Number: P40003, Incident Date: 2024-04-18, Location: 35 Pine St, Description: Tree fell on roof during a storm., Claim Type: Storm Damage, Claim Amount: $9000, Feedback: The service was excellent.\\n\\nClaim ID: C013, Customer: David Wilson (cust005), Insurance Type: Health, Policy Number: P50001, Incident Date: 2024-02-14, Location: XYZ Clinic, Description: Treatment for flu., Claim Type: Medical Expense, Claim Amount: $400, Feedback: The process was slow but acceptable.\\n\\nClaim ID: C014, Customer: David Wilson (cust005), Insurance Type: Auto, Policy Number: P50002, Incident Date: 2024-05-05, Location: Broadway, NY, Description: Side collision with another vehicle., Claim Type: Collision Damage, Claim Amount: $7000, Feedback: Frustrated by the slow process.\\n\\nClaim ID: C015, Customer: David Wilson (cust005), Insurance Type: Property, Policy Number: P50003, Incident Date: 2024-03-15, Location: 789 Maple St, Description: Basement flooding after heavy rain., Claim Type: Water Damage, Claim Amount: $8000, Feedback: Satisfied with how quickly the claim was handled.\\n\\n, Here are the details of the claim processing agents:\\n\\nAgent ID: a1, Name: John Smith, Expertise: health, auto, Experience: Health - 7 years, Auto - 6 years, Property - 4 years, Overall - 6 years.\\n\\nAgent ID: a2, Name: Emily Johnson, Expertise: property, Experience: Health - 2 years, Auto - 3 years, Property - 8 years, Overall - 4 years.\\n\\nAgent ID: a3, Name: Michael Davis, Expertise: auto, property, Experience: Health - 3 years, Auto - 8 years, Property - 7 years, Overall - 6 years.\\n\\nAgent ID: a4, Name: Jessica Williams, Expertise: health, Experience: Health - 9 years, Auto - 1 years, Property - 2 years, Overall - 4 years.\\n\\nAgent ID: a5, Name: David Brown, Expertise: health, auto, property, Experience: Health - 6 years, Auto - 7 years, Property - 5 years, Overall - 6 years.\\n\\nAgent ID: a6, Name: Sophia Martinez, Expertise: auto, Experience: Health - 2 years, Auto - 9 years, Property - 3 years, Overall - 5 years.\\n\\nAgent ID: a7, Name: James Anderson, Expertise: health, property, Experience: Health - 8 years, Auto - 2 years, Property - 7 years, Overall - 6 years.\\n\\nAgent ID: a8, Name: Olivia Garcia, Expertise: auto, property, Experience: Health - 1 years, Auto - 6 years, Property - 9 years, Overall - 5 years.\\n\\nAgent ID: a9, Name: Lucas Clark, Expertise: health, Experience: Health - 10 years, Auto - 3 years, Property - 4 years, Overall - 6 years.\\n\\nAgent ID: a10, Name: Mia Rodriguez, Expertise: property, Experience: Health - 3 years, Auto - 1 years, Property - 7 years, Overall - 4 years.\\n\\nAgent ID: a11, Name: William Moore, Expertise: auto, Experience: Health - 2 years, Auto - 8 years, Property - 4 years, Overall - 5 years.\\n\\nAgent ID: a12, Name: Ava Thomas, Expertise: health, property, Experience: Health - 9 years, Auto - 2 years, Property - 6 years, Overall - 6 years.\\n\\nAgent ID: a13, Name: Ethan Jackson, Expertise: health, auto, Experience: Health - 7 years, Auto - 8 years, Property - 3 years, Overall - 6 years.\\n\\nAgent ID: a14, Name: Isabella Martinez, Expertise: property, Experience: Health - 4 years, Auto - 3 years, Property - 9 years, Overall - 5 years.\\n\\nAgent ID: a15, Name: Alexander Lee, Expertise: auto, Experience: Health - 1 years, Auto - 7 years, Property - 2 years, Overall - 3 years.\\n\\nAgent ID: a16, Name: Charlotte Perez, Expertise: health, auto, Experience: Health - 6 years, Auto - 5 years, Property - 4 years, Overall - 5 years.\\n\\nAgent ID: a17, Name: Benjamin Young, Expertise: property, Experience: Health - 2 years, Auto - 1 years, Property - 8 years, Overall - 4 years.\\n\\nAgent ID: a18, Name: Amelia Thompson, Expertise: health, auto, Experience: Health - 8 years, Auto - 7 years, Property - 3 years, Overall - 6 years.\\n\\nAgent ID: a19, Name: Henry White, Expertise: health, property, Experience: Health - 5 years, Auto - 2 years, Property - 9 years, Overall - 5 years.\\n\\nAgent ID: a20, Name: Sophia Harris, Expertise: auto, Experience: Health - 1 years, Auto - 8 years, Property - 4 years, Overall - 4 years.\\n\\nAgent ID: a21, Name: Logan Martin, Expertise: health, property, Experience: Health - 9 years, Auto - 3 years, Property - 6 years, Overall - 6 years.\\n\\nAgent ID: a22, Name: Avery Lewis, Expertise: auto, Experience: Health - 2 years, Auto - 9 years, Property - 5 years, Overall - 5 years.\\n\\nAgent ID: a23, Name: Carter Hall, Expertise: health, auto, property, Experience: Health - 8 years, Auto - 6 years, Property - 4 years, Overall - 6 years.\\n\\nAgent ID: a24, Name: Grace Allen, Expertise: property, Experience: Health - 3 years, Auto - 2 years, Property - 8 years, Overall - 4 years.\\n\\nAgent ID: a25, Name: Lucas Adams, Expertise: auto, Experience: Health - 1 years, Auto - 7 years, Property - 5 years, Overall - 4 years.\\n\\nAgent ID: a26, Name: Ella King, Expertise: health, property, Experience: Health - 10 years, Auto - 1 years, Property - 9 years, Overall - 7 years.\\n\\nAgent ID: a27, Name: Jack Scott, Expertise: health, Experience: Health - 8 years, Auto - 2 years, Property - 4 years, Overall - 5 years.\\n\\nAgent ID: a28, Name: Chloe Green, Expertise: auto, property, Experience: Health - 3 years, Auto - 9 years, Property - 7 years, Overall - 6 years.\\n\\nAgent ID: a29, Name: Samuel Baker, Expertise: health, auto, Experience: Health - 7 years, Auto - 8 years, Property - 5 years, Overall - 7 years.\\n\\nAgent ID: a30, Name: Abigail Wright, Expertise: property, Experience: Health - 4 years, Auto - 3 years, Property - 9 years, Overall - 5 years.\\n\\nAgent ID: a31, Name: Mason Rivera, Expertise: auto, Experience: Health - 2 years, Auto - 6 years, Property - 4 years, Overall - 4 years.\\n\\nAgent ID: a32, Name: Avery Cox, Expertise: health, property, Experience: Health - 9 years, Auto - 3 years, Property - 6 years, Overall - 6 years.\\n\\nAgent ID: a33, Name: Elijah Morgan, Expertise: auto, property, Experience: Health - 3 years, Auto - 7 years, Property - 8 years, Overall - 6 years.\\n\\nAgent ID: a34, Name: Harper Bell, Expertise: health, Experience: Health - 10 years, Auto - 1 years, Property - 2 years, Overall - 4 years.\\n\\nAgent ID: a35, Name: Ethan Barnes, Expertise: auto, property, Experience: Health - 4 years, Auto - 8 years, Property - 6 years, Overall - 6 years.\\n\\nAgent ID: a36, Name: Mila Torres, Expertise: health, Experience: Health - 8 years, Auto - 3 years, Property - 5 years, Overall - 5 years.\\n\\nAgent ID: a37, Name: Daniel Ramirez, Expertise: auto, Experience: Health - 2 years, Auto - 9 years, Property - 3 years, Overall - 5 years.\\n\\nAgent ID: a38, Name: Lily Howard, Expertise: health, property, Experience: Health - 7 years, Auto - 2 years, Property - 6 years, Overall - 5 years.\\n\\nAgent ID: a39, Name: Jacob Ward, Expertise: auto, property, Experience: Health - 1 years, Auto - 7 years, Property - 8 years, Overall - 5 years.\\n\\nAgent ID: a40, Name: Hannah Brooks, Expertise: health, Experience: Health - 9 years, Auto - 4 years, Property - 3 years, Overall - 5 years.\\n\\nAgent ID: a41, Name: Jackson Foster, Expertise: auto, property, Experience: Health - 2 years, Auto - 8 years, Property - 5 years, Overall - 5 years.\\n\\nAgent ID: a42, Name: Scarlett Bennett, Expertise: health, auto, Experience: Health - 6 years, Auto - 7 years, Property - 3 years, Overall - 6 years.\\n\\nAgent ID: a43, Name: Sebastian Powell, Expertise: property, Experience: Health - 3 years, Auto - 1 years, Property - 7 years, Overall - 4 years.\\n\\nAgent ID: a44, Name: Zoe Hayes, Expertise: auto, Experience: Health - 2 years, Auto - 8 years, Property - 4 years, Overall - 5 years.\\n\\nAgent ID: a45, Name: Levi Gonzalez, Expertise: health, auto, property, Experience: Health - 8 years, Auto - 6 years, Property - 5 years, Overall - 6 years.\\n\\nAgent ID: a46, Name: Layla Cooper, Expertise: property, Experience: Health - 3 years, Auto - 4 years, Property - 9 years, Overall - 5 years.\\n\\nAgent ID: a47, Name: Isaac Peterson, Expertise: auto, Experience: Health - 2 years, Auto - 8 years, Property - 6 years, Overall - 5 years.\\n\\nAgent ID: a48, Name: Grace Foster, Expertise: health, auto, property, Experience: Health - 7 years, Auto - 5 years, Property - 6 years, Overall - 6 years.\\n\\nAgent ID: a49, Name: Logan Brooks, Expertise: property, Experience: Health - 3 years, Auto - 1 years, Property - 8 years, Overall - 4 years.\\n\\nAgent ID: a50, Name: Chloe Bailey, Expertise: health, Experience: Health - 10 years, Auto - 2 years, Property - 3 years, Overall - 5 years.\\n\\n\\n'"
      ]
     },
     "execution_count": 21,
     "metadata": {},
     "output_type": "execute_result"
    }
   ],
   "source": [
    "assistant_prompt = f'''\n",
    "You have been provided with the following information: {claims_context}, {agents_context}\n",
    "'''\n",
    "assistant_prompt"
   ]
  }
 ],
 "metadata": {
  "kernelspec": {
   "display_name": "venv",
   "language": "python",
   "name": "python3"
  },
  "language_info": {
   "codemirror_mode": {
    "name": "ipython",
    "version": 3
   },
   "file_extension": ".py",
   "mimetype": "text/x-python",
   "name": "python",
   "nbconvert_exporter": "python",
   "pygments_lexer": "ipython3",
   "version": "3.12.7"
  }
 },
 "nbformat": 4,
 "nbformat_minor": 2
}
